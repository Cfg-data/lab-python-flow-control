{
 "cells": [
  {
   "cell_type": "markdown",
   "id": "d3bfc191-8885-42ee-b0a0-bbab867c6f9f",
   "metadata": {
    "tags": []
   },
   "source": [
    "# Lab | Flow Control"
   ]
  },
  {
   "cell_type": "markdown",
   "id": "3851fcd1-cf98-4653-9c89-e003b7ec9400",
   "metadata": {},
   "source": [
    "## Exercise: Managing Customer Orders Optimized\n",
    "\n",
    "In the last lab, you were starting an online store that sells various products. To ensure smooth operations, you developed a program that manages customer orders and inventory.\n",
    "\n",
    "You did so without using flow control. Let's go a step further and improve this code.\n",
    "\n",
    "Follow the steps below to complete the exercise:\n",
    "\n",
    "1. Look at your code from the lab data structures, and improve repeated code with loops.\n",
    "\n",
    "2. Instead of asking the user to input the name of three products that a customer wants to order, do the following:\n",
    "    \n",
    "    a. Prompt the user to enter the name of a product that a customer wants to order.\n",
    "    \n",
    "    b. Add the product name to the \"customer_orders\" set.\n",
    "    \n",
    "    c. Ask the user if they want to add another product (yes/no).\n",
    "    \n",
    "    d. Continue the loop until the user does not want to add another product.\n",
    "\n",
    "3. Instead of updating the inventory by subtracting 1 from the quantity of each product, only do it for  the products that were ordered (those in \"customer_orders\")."
   ]
  },
  {
   "cell_type": "code",
   "execution_count": 8,
   "id": "64cbd8a0-1d71-483d-a51b-0c60f1a8b6ca",
   "metadata": {},
   "outputs": [
    {
     "name": "stdin",
     "output_type": "stream",
     "text": [
      "Enter the quantity for t-shirt:  96\n",
      "Enter the quantity for mug:  48\n",
      "Enter the quantity for hat:  93\n",
      "Enter the quantity for book:  1520\n",
      "Enter the quantity for keychain:  18\n"
     ]
    },
    {
     "name": "stdout",
     "output_type": "stream",
     "text": [
      "Inventory: {'t-shirt': 96, 'mug': 48, 'hat': 93, 'book': 1520, 'keychain': 18}\n"
     ]
    },
    {
     "name": "stdin",
     "output_type": "stream",
     "text": [
      "Enter the name of a product you want to order (t-shirt, mug, hat, book, keychain):  book\n",
      "Enter the quantity for book:  18\n"
     ]
    },
    {
     "name": "stdout",
     "output_type": "stream",
     "text": [
      "18 of book has been added to your orders.\n"
     ]
    },
    {
     "name": "stdin",
     "output_type": "stream",
     "text": [
      "Do you want to add another product? (yes/no):  yes\n",
      "Enter the name of a product you want to order (t-shirt, mug, hat, book, keychain):  hat\n",
      "Enter the quantity for hat:  56\n"
     ]
    },
    {
     "name": "stdout",
     "output_type": "stream",
     "text": [
      "56 of hat has been added to your orders.\n"
     ]
    },
    {
     "name": "stdin",
     "output_type": "stream",
     "text": [
      "Do you want to add another product? (yes/no):  yes\n",
      "Enter the name of a product you want to order (t-shirt, mug, hat, book, keychain):  keychain\n",
      "Enter the quantity for keychain:  2\n"
     ]
    },
    {
     "name": "stdout",
     "output_type": "stream",
     "text": [
      "2 of keychain has been added to your orders.\n"
     ]
    },
    {
     "name": "stdin",
     "output_type": "stream",
     "text": [
      "Do you want to add another product? (yes/no):  no\n"
     ]
    },
    {
     "name": "stdout",
     "output_type": "stream",
     "text": [
      "Your final orders are: {'book': 18, 'hat': 56, 'keychain': 2}\n",
      "Remaining inventory: {'t-shirt': 96, 'mug': 48, 'hat': 37, 'book': 1502, 'keychain': 16}\n"
     ]
    }
   ],
   "source": [
    "# Initialize the dictionary for customer orders\n",
    "customer_orders = {}\n",
    "\n",
    "# List of available products\n",
    "products = [\"t-shirt\", \"mug\", \"hat\", \"book\", \"keychain\"]\n",
    "\n",
    "# Initialize inventory\n",
    "inventory = {product: 0 for product in products}\n",
    "\n",
    "# Input quantities for inventory\n",
    "for product in products:\n",
    "    quantity = int(input(f\"Enter the quantity for {product}: \"))\n",
    "    inventory[product] += quantity\n",
    "\n",
    "print(\"Inventory:\", inventory)\n",
    "\n",
    "while True:\n",
    "    # a. Prompt the user to enter the name of a product\n",
    "    product = input(\"Enter the name of a product you want to order (t-shirt, mug, hat, book, keychain): \").strip().lower()\n",
    "    \n",
    "    # Check if the product is valid\n",
    "    if product in products:\n",
    "        # Ask for the quantity of the product\n",
    "        quantity = int(input(f\"Enter the quantity for {product}: \"))\n",
    "        \n",
    "        # Check if there is enough inventory for the order\n",
    "        if quantity <= inventory[product]:\n",
    "            # b. Add the product and quantity to the \"customer_orders\" dictionary\n",
    "            if product in customer_orders:\n",
    "                customer_orders[product] += quantity  # Update quantity if product already exists\n",
    "            else:\n",
    "                customer_orders[product] = quantity  # Add new product with quantity\n",
    "            \n",
    "            # Update the inventory\n",
    "            inventory[product] -= quantity\n",
    "            print(f\"{quantity} of {product} has been added to your orders.\")\n",
    "        else:\n",
    "            print(f\"Sorry, there is not enough inventory for {product}. Available quantity: {inventory[product]}\")\n",
    "    else:\n",
    "        print(\"Invalid product. Please choose from the available products.\")\n",
    "    \n",
    "    # c. Ask the user if they want to add another product\n",
    "    another = input(\"Do you want to add another product? (yes/no): \").strip().lower()\n",
    "    \n",
    "    # d. Continue the loop until the user does not want to add another product\n",
    "    if another != 'yes':\n",
    "        break\n",
    "\n",
    "# Display the final orders and remaining inventory\n",
    "print(\"Your final orders are:\", customer_orders)\n",
    "print(\"Remaining inventory:\", inventory)"
   ]
  },
  {
   "cell_type": "code",
   "execution_count": null,
   "id": "7f36803a-c86b-48ff-8c55-53804ae58049",
   "metadata": {},
   "outputs": [],
   "source": [
    "def manage_customer_orders(products: list[str]) -> dict[str, int]:\n",
    "    \"\"\"\n",
    "    Manages customer orders by allowing users to input product quantities and select products to order.\n",
    "\n",
    "    Args:\n",
    "    products (list[str]): A list of available products.\n",
    "\n",
    "    Returns:\n",
    "    dict[str, int]: A dictionary of customer orders with product names as keys and quantities as values.\n",
    "    \"\"\"\n",
    "    # Initialize the dictionary for customer orders\n",
    "    customer_orders = {}\n",
    "\n",
    "    # Initialize inventory with user-defined quantities\n",
    "    inventory = {product: 0 for product in products}\n",
    "    for product in products:\n",
    "        quantity = int(input(f\"Enter the quantity for {product}: \"))\n",
    "        inventory[product] += quantity\n",
    "\n",
    "    print(\"Inventory:\", inventory)\n",
    "\n",
    "    while True:\n",
    "        # Prompt the user to enter the name of a product\n",
    "        product = input(\"Enter the name of a product you want to order (t-shirt, mug, hat, book, keychain): \").strip().lower()\n",
    "        \n",
    "        # Check if the product is valid\n",
    "        if product in products:\n",
    "            # Ask for the quantity of the product to order\n",
    "            quantity = int(input(f\"Enter the quantity for {product}: \"))\n",
    "            # Add or update the product quantity in the customer orders\n",
    "            if product in customer_orders:\n",
    "                customer_orders[product] += quantity\n",
    "            else:\n",
    "                customer_orders[product] = quantity\n",
    "            print(f\"{quantity} of {product} has been added to your orders.\")\n",
    "        else:\n",
    "            print(\"Invalid product. Please choose from the available products.\")\n",
    "        \n",
    "        # Ask the user if they want to add another product\n",
    "        another = input(\"Do you want to add another product? (yes/no): \").strip().lower()\n",
    "        \n",
    "        # Continue the loop until the user does not want to add another product\n",
    "        if another != 'yes':\n",
    "            break\n",
    "\n",
    "    # Display the final orders\n",
    "    print(\"Your final orders are:\", customer_orders)\n",
    "    return customer_orders\n",
    "\n",
    "# Example usage\n",
    "products = [\"t-shirt\", \"mug\", \"hat\", \"book\", \"keychain\"]\n",
    "manage_customer_orders(products)"
   ]
  },
  {
   "cell_type": "markdown",
   "id": "9d37bf5c-b45f-4fc5-84e9-eae09ae6397c",
   "metadata": {},
   "source": [
    "\n",
    "### Justification:\n",
    "1. **Data Structure Change**: Changed `customer_orders` from a set to a dictionary to store both product names and their corresponding quantities.\n",
    "2. **Quantity Input**: Added a prompt for the user to input the quantity of the product they wish to order, allowing for more detailed orders.\n",
    "3. **Updating Orders**: Implemented logic to update the quantity of a product if it is already in the orders, ensuring that multiple orders for the same product are aggregated correctly.\n",
    "4. **Docstrings and Type Hints**: Maintained the docstring and type hints for clarity and maintainability."
   ]
  }
 ],
 "metadata": {
  "kernelspec": {
   "display_name": "Python 3 (ipykernel)",
   "language": "python",
   "name": "python3"
  },
  "language_info": {
   "codemirror_mode": {
    "name": "ipython",
    "version": 3
   },
   "file_extension": ".py",
   "mimetype": "text/x-python",
   "name": "python",
   "nbconvert_exporter": "python",
   "pygments_lexer": "ipython3",
   "version": "3.12.4"
  }
 },
 "nbformat": 4,
 "nbformat_minor": 5
}
